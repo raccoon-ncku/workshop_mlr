{
 "cells": [
  {
   "cell_type": "code",
   "execution_count": null,
   "metadata": {},
   "outputs": [],
   "source": [
    "import gymnasium as gym\n",
    "import panda_gym\n",
    "import numpy as np\n",
    "import datetime\n",
    "from stable_baselines3 import HerReplayBuffer\n",
    "from stable_baselines3.common.callbacks import CheckpointCallback\n",
    "from sb3_contrib import TQC"
   ]
  },
  {
   "cell_type": "code",
   "execution_count": null,
   "metadata": {},
   "outputs": [],
   "source": [
    "base_path = \".\""
   ]
  },
  {
   "cell_type": "code",
   "execution_count": null,
   "metadata": {},
   "outputs": [],
   "source": [
    "env = gym.make(\"PandaPickAndPlace-v3\")"
   ]
  },
  {
   "cell_type": "code",
   "execution_count": null,
   "metadata": {},
   "outputs": [],
   "source": [
    "model = TQC(\n",
    "    \"MultiInputPolicy\",\n",
    "    env,\n",
    "    batch_size=2048,\n",
    "    buffer_size=1000000,\n",
    "    gamma=0.95,\n",
    "    learning_rate=0.001,\n",
    "    policy_kwargs=dict(net_arch=[512, 512, 512], n_critics=2),\n",
    "    replay_buffer_class=HerReplayBuffer,\n",
    "    replay_buffer_kwargs=dict(goal_selection_strategy='future', n_sampled_goal=4),\n",
    "    tau=0.05,\n",
    "    seed=3157870761,\n",
    "    verbose=1,\n",
    "    tensorboard_log=f'{base_path}/tensorboard/',\n",
    ")"
   ]
  },
  {
   "cell_type": "code",
   "execution_count": null,
   "metadata": {},
   "outputs": [],
   "source": [
    "stringified_time = datetime.datetime.now().strftime(\"%Y%m%d%H%M%S\")\n",
    "checkpoint_callback = CheckpointCallback( \n",
    "    save_freq=10_000,\n",
    "    save_path=f\"{base_path}/models/{stringified_time}/\", \n",
    "    name_prefix=\"tqc_panda_pick_and_place\"\n",
    ")  # Callback for saving the model"
   ]
  },
  {
   "cell_type": "code",
   "execution_count": null,
   "metadata": {},
   "outputs": [],
   "source": [
    "model.learn(\n",
    "    total_timesteps=1_000_000.0,\n",
    "    callback=checkpoint_callback, \n",
    "    progress_bar=True\n",
    ")\n",
    "model.save(f\"{base_path}/tqc_panda_pick_and_place_final\")\n"
   ]
  }
 ],
 "metadata": {
  "kernelspec": {
   "display_name": "ws_mlr",
   "language": "python",
   "name": "python3"
  },
  "language_info": {
   "codemirror_mode": {
    "name": "ipython",
    "version": 3
   },
   "file_extension": ".py",
   "mimetype": "text/x-python",
   "name": "python",
   "nbconvert_exporter": "python",
   "pygments_lexer": "ipython3",
   "version": "3.9.10"
  }
 },
 "nbformat": 4,
 "nbformat_minor": 2
}
